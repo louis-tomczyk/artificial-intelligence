{
 "cells": [
  {
   "cell_type": "markdown",
   "id": "491aee4f",
   "metadata": {},
   "source": [
    "***\n",
    "# K-means clustering\n",
    "***\n",
    "***\n",
    "author --- louis tomczyk<br>\n",
    "institution --- Xidian University<br>\n",
    "student id --- 211.561.13.752<br>\n",
    "date --- 2021.11.28<br>\n",
    "course --- X2 CS 10 26 - Machine Learning<br>\n",
    "contact --- <louis.tomczyk.work@gmail.com><br>\n",
    "bibliography --- <br>\n",
    "- __[Scikit-learn : Standard Scaler](https://scikit-learn.org/stable/modules/generated/sklearn.preprocessing.StandardScaler.html)__\n",
    "***\n",
    "\n"
   ]
  },
  {
   "cell_type": "markdown",
   "id": "b768425b",
   "metadata": {},
   "source": [
    "## 0/ Maintenance\n",
    "***"
   ]
  },
  {
   "cell_type": "markdown",
   "id": "c29f657d",
   "metadata": {},
   "source": [
    "### General packages"
   ]
  },
  {
   "cell_type": "code",
   "execution_count": null,
   "id": "1f74f7dd",
   "metadata": {},
   "outputs": [],
   "source": [
    "# basic maths\n",
    "import numpy as np\n",
    "\n",
    "# ploting\n",
    "import matplotlib.pyplot as plt\n",
    "import matplotlib.pylab as pylab\n",
    "\n",
    "# tools for arrays etc.\n",
    "import pandas as pd\n",
    "\n",
    "# importing Fisher Iris dataset\n",
    "from sklearn.datasets import load_iris\n",
    "\n",
    "# Performance evaluation metris\n",
    "from sklearn.metrics import plot_confusion_matrix\n",
    "from sklearn.metrics import accuracy_score as accuracy\n",
    "from sklearn.metrics import precision_score as precision\n",
    "from sklearn.metrics import recall_score as recall\n",
    "from sklearn.metrics import f1_score as f1\n",
    "\n",
    "# splitting data for k-fold validation\n",
    "from sklearn.model_selection import train_test_split\n",
    "from sklearn.model_selection import GridSearchCV\n",
    "\n",
    "# other tools\n",
    "from sklearn.multiclass import OneVsRestClassifier\n",
    "\n",
    "# re-scaling values\n",
    "from sklearn.preprocessing import StandardScaler\n"
   ]
  },
  {
   "cell_type": "markdown",
   "id": "713bd2a6",
   "metadata": {},
   "source": [
    "### Plot parameters"
   ]
  },
  {
   "cell_type": "code",
   "execution_count": null,
   "id": "08f49d09",
   "metadata": {},
   "outputs": [],
   "source": [
    "fig_width       = 10\n",
    "fig_height      = fig_width/1.618\n",
    "fig_resolution  = fig_width*fig_height\n",
    "\n",
    "\n",
    "plt.rcParams['figure.figsize']  = (fig_width, fig_height*2)\n",
    "plt.rcParams['figure.dpi']      = 50\n",
    "plt.rcParams['font.weight']     = \"normal\"\n",
    "plt.rcParams['axes.labelweight']= \"bold\"\n",
    "plt.rcParams['axes.linewidth']  = \"0.1\"\n",
    "plt.rcParams[\"axes.titlesize\"]  = \"20\"\n",
    "plt.rcParams[\"axes.labelsize\"]  = \"12\"\n",
    "plt.rcParams[\"axes.titleweight\"]= \"bold\"\n",
    "\n",
    "draw_plot = 1"
   ]
  },
  {
   "cell_type": "markdown",
   "id": "d2437fa1",
   "metadata": {},
   "source": [
    "### Loading data"
   ]
  },
  {
   "cell_type": "code",
   "execution_count": null,
   "id": "9349d9c6",
   "metadata": {},
   "outputs": [],
   "source": [
    "file_name = \"Data.csv\"\n",
    "X = pd.read_csv(file_name)\n",
    "X.drop(['sample'],axis=1,inplace=True)\n",
    "x = X[\"density\"]\n",
    "y = X[\"sugar_content\"]\n",
    "X.head()\n"
   ]
  },
  {
   "cell_type": "markdown",
   "id": "90472e90",
   "metadata": {},
   "source": [
    "## 1/ Data Importation\n",
    "***"
   ]
  },
  {
   "cell_type": "code",
   "execution_count": null,
   "id": "a9880314",
   "metadata": {},
   "outputs": [],
   "source": [
    "plt.scatter(x,y)\n",
    "plt.xlabel(\"density\")\n",
    "plt.ylabel(\"sugar content\")\n",
    "plt.show()"
   ]
  },
  {
   "cell_type": "markdown",
   "id": "536cbdd7",
   "metadata": {},
   "source": [
    "## 2/ Data analysis\n",
    "***"
   ]
  },
  {
   "cell_type": "markdown",
   "id": "b6911189",
   "metadata": {},
   "source": [
    "### Visualisation of raw data"
   ]
  },
  {
   "cell_type": "markdown",
   "id": "0e0473de",
   "metadata": {},
   "source": [
    "### Visualisation of the statistics"
   ]
  },
  {
   "cell_type": "code",
   "execution_count": null,
   "id": "41da2738",
   "metadata": {},
   "outputs": [],
   "source": [
    "if draw_plot == 1:\n",
    "    fig, axes = plt.subplots(nrows=2, ncols=2)\n",
    "\n",
    "    fig.set_figheight(fig_height*2)\n",
    "    fig.set_figwidth(fig_width*2)\n",
    "\n",
    "    X.plot(kind='line',ax=axes[0,0])\n",
    "    X.plot(kind='box',ax=axes[0,1])\n",
    "    X.plot(kind='density',ax=axes[1,0])\n",
    "    X.plot(kind='hist',ax=axes[1,1])\n",
    "    plt.show()"
   ]
  },
  {
   "cell_type": "markdown",
   "id": "ab4871bb",
   "metadata": {},
   "source": [
    "## 3/ Data pre-processing\n",
    "***"
   ]
  },
  {
   "cell_type": "markdown",
   "id": "7d300a9f",
   "metadata": {},
   "source": [
    "### Re-scaling the data\n",
    "needed if we want to have a proper working algorithms."
   ]
  },
  {
   "cell_type": "code",
   "execution_count": null,
   "id": "3b1c391b",
   "metadata": {},
   "outputs": [],
   "source": [
    "scaler  = StandardScaler()\n",
    "X       = scaler.fit_transform(X)\n",
    "X       = pd.DataFrame(X)"
   ]
  },
  {
   "cell_type": "markdown",
   "id": "3a7bdc9f",
   "metadata": {},
   "source": [
    "### Visualisation of the changes in the statistics"
   ]
  },
  {
   "cell_type": "code",
   "execution_count": null,
   "id": "583535a1",
   "metadata": {},
   "outputs": [],
   "source": [
    "if draw_plot == 1:\n",
    "    fig, axes = plt.subplots(nrows=2, ncols=2)\n",
    "\n",
    "    fig.set_figheight(13)\n",
    "    fig.set_figwidth(21)\n",
    "\n",
    "    X.plot(kind='line',ax=axes[0,0])\n",
    "    X.plot(kind='box',ax=axes[0,1])\n",
    "    X.plot(kind='density',ax=axes[1,0])\n",
    "    X.plot(kind='hist',ax=axes[1,1])\n",
    "\n",
    "    plt.show()"
   ]
  },
  {
   "cell_type": "markdown",
   "id": "8340a2f8",
   "metadata": {},
   "source": [
    "### Splitting the datasets into train and test sub-datasets"
   ]
  },
  {
   "cell_type": "code",
   "execution_count": null,
   "id": "1d91d6b5",
   "metadata": {},
   "outputs": [],
   "source": [
    "X_train, X_test, y_train, y_test = train_test_split(x,y,test_size=0.33)\n",
    "X_train = np.array(X_train)\n",
    "X_train = X_train.reshape(-1,1)\n",
    "y_test = np.array(y_test)"
   ]
  },
  {
   "cell_type": "markdown",
   "id": "bcfe7f8a",
   "metadata": {},
   "source": [
    "## 4/ Training\n",
    "***"
   ]
  },
  {
   "cell_type": "markdown",
   "id": "ec272f4c",
   "metadata": {},
   "source": [
    "### a/ Using Sklearn"
   ]
  },
  {
   "cell_type": "code",
   "execution_count": null,
   "id": "5c9fa36b",
   "metadata": {},
   "outputs": [],
   "source": [
    "from sklearn.cluster import KMeans\n",
    "\n",
    "kmeans_random   = KMeans(init='random',n_clusters=3)\n",
    "label_random    = kmeans.fit_predict(X_train)\n",
    "\n",
    "kmeans_pp       = KMeans(init='k-means++',n_clusters=3)\n",
    "label_pp        = kmeans.fit_predict(X_train)\n",
    "\n",
    "label_diff      = label_random-label_pp\n",
    "print(label_diff)"
   ]
  },
  {
   "cell_type": "code",
   "execution_count": null,
   "id": "f34e4372",
   "metadata": {},
   "outputs": [],
   "source": [
    "plt.scatter(X_train,y_train,c=label_random)\n",
    "plt.xlabel(\"density\")\n",
    "plt.ylabel(\"sugar content\")\n",
    "plt.show()"
   ]
  },
  {
   "cell_type": "code",
   "execution_count": null,
   "id": "44c22961",
   "metadata": {},
   "outputs": [],
   "source": [
    "\n",
    "# Run a number of tests, for 1, 2, ... num_clusters\n",
    "num_clusters = 10\n",
    "kmeans_tests = [KMeans(n_clusters=i) for i in range(1, num_clusters)]\n",
    "score = [kmeans_tests[i].fit(X_train).score(X_train) for i in range(len(kmeans_tests))]\n",
    "\n",
    "# Plot the curve\n",
    "plt.plot(range(1, num_clusters),score)\n",
    "plt.xlabel('Number of Clusters')\n",
    "plt.ylabel('Score')\n",
    "plt.title('Elbow Curve')\n",
    "plt.show()"
   ]
  },
  {
   "cell_type": "markdown",
   "id": "5730c731",
   "metadata": {},
   "source": [
    "### b/ from scratch"
   ]
  },
  {
   "cell_type": "code",
   "execution_count": 1,
   "id": "04f2c9c9",
   "metadata": {},
   "outputs": [],
   "source": [
    "import numpy as np\n",
    "import pandas as pd\n",
    "import matplotlib.pyplot as plt"
   ]
  },
  {
   "cell_type": "code",
   "execution_count": 15,
   "id": "3d58540a",
   "metadata": {},
   "outputs": [],
   "source": [
    "# ======================================        DISTANCE\n",
    "\n",
    "def distance(A,B,dist_method=\"euclidian\"):\n",
    "\n",
    "    # formating\n",
    "    A   = np.array(A).reshape(-1,2)\n",
    "    B   = np.array(B).reshape(-1,2)\n",
    "\n",
    "    # to make formula more easy to read\n",
    "    xA = A[:,0]\n",
    "    yA = A[:,1]\n",
    "    xB = B[:,0]\n",
    "    yB = B[:,1]\n",
    "\n",
    "    # to store all the distances\n",
    "    d = np.zeros((1,A.shape[0]))\n",
    "\n",
    "    # as a reminder : d_manhattan = |xA-xB| + |yA-yB|\n",
    "    if dist_method == \"manhattan\":\n",
    "        d = np.abs(xA-xB)+np.abs(yA-yB)\n",
    "        return d\n",
    "\n",
    "    # as a reminder : d_manhattan = v[(xA-xB)² + (yA-yB)²]\n",
    "    elif dist_method == \"euclidian\":\n",
    "        d = np.sqrt((xA-xB)**2+(yA-yB)**2)\n",
    "        return d\n",
    "\n",
    "# ======================================        INIT_CENTROIDS\n",
    "\n",
    "def init_centroids(data,number_clusters,init_method=\"random\"):\n",
    "    \n",
    "    centroids = np.zeros((1,number_clusters))\n",
    "    n_samples = data.shape[0]\n",
    "\n",
    "    # other methods could be implemented, like the k-means++\n",
    "    if init_method == \"random\":\n",
    "\n",
    "        # we randomly choose indices\n",
    "        indices     = np.random.choice(n_samples,number_clusters)\n",
    "\n",
    "        # and we pick the initial centroids from the dataset\n",
    "        centroids   = data[indices,:]\n",
    "        \n",
    "        return centroids\n",
    "\n",
    "# ======================================        ASSIGN CLUSTER\n",
    "\n",
    "def assign_cluster(centroids,data,dist_method=\"euclidian\"):\n",
    "\n",
    "    n_samples   = data.shape[0]\n",
    "    n_centroids = centroids.shape[0]\n",
    "    clusters    = [[] for k in range(n_centroids)]\n",
    "    dist        = np.zeros((n_centroids,n_samples))\n",
    "\n",
    "    # for each centroid (k)\n",
    "    # we compute the distance of each dataset sample (j)\n",
    "    for k in range(n_centroids):\n",
    "        for j in range(n_samples):\n",
    "            dist[k,j]   = distance(centroids[k],data[j])\n",
    "\n",
    "    # we look for the closest dataset samples from each centroid\n",
    "    indices_of_minima   = np.argmin(dist,axis=0)\n",
    "\n",
    "    # then we assign the closest dataset samples to its cluster\n",
    "    for j in range(n_samples):\n",
    "        clusters[indices_of_minima[j]].append(data[j])\n",
    "\n",
    "    return clusters\n",
    "\n",
    "# ======================================        UPDATE CENTROIDS\n",
    "\n",
    "def update_centroids(old_centroids,data):\n",
    "\n",
    "    n_centroids     = old_centroids.shape[0]\n",
    "    new_centroids   = np.zeros((n_centroids,2)).T\n",
    "\n",
    "    # we compute the distance between each centroid (k)\n",
    "    # and each sample from the dataset (j)\n",
    "    for k in range(n_centroids):\n",
    "        for j in range(2):\n",
    "            new_centroids[k,j] = np.mean(data[k].T[j])\n",
    "\n",
    "    # formating to return a matrix with all the centroids\n",
    "    # movements\n",
    "    old_centroids   = old_centroids.reshape(-1,len(old_centroids))\n",
    "    new_centroids   = new_centroids.reshape(-1,len(new_centroids))\n",
    "    Centroids       = [old_centroids,new_centroids]\n",
    "    \n",
    "    return Centroids\n",
    "\n",
    "# ======================================        CENTROID MOVEMENT\n",
    "\n",
    "def centroid_movement(old_centroids,new_centroids,dist_method):\n",
    "    return distance(old_centroids,new_centroids,dist_method=dist_method)\n",
    "\n",
    "# ======================================        PLOT CLUSTERS\n",
    "\n",
    "def plot_clusters(clusters,centroids):\n",
    "\n",
    "    n_clusters = len(clusters)\n",
    "    n_centroids= len(centroids)\n",
    "\n",
    "    # we plot the clusters\n",
    "    for k in range(n_clusters):\n",
    "        X = np.array(clusters[k]).T[0]\n",
    "        Y = np.array(clusters[k]).T[1]\n",
    "        plt.scatter(X,Y)\n",
    "\n",
    "    # then we show the centroids location\n",
    "    X = np.array(centroids).T[0]\n",
    "    Y = np.array(centroids).T[1]\n",
    "    plt.scatter(X,Y,color='black')\n",
    "    \n",
    "    plt.show()"
   ]
  },
  {
   "cell_type": "code",
   "execution_count": 16,
   "id": "0bb04585",
   "metadata": {},
   "outputs": [
    {
     "data": {
      "image/png": "[encoded data removed]",
      "text/plain": [
       "<Figure size 432x288 with 1 Axes>"
      ]
     },
     "metadata": {
      "needs_background": "light"
     },
     "output_type": "display_data"
    }
   ],
   "source": [
    "file_name   = \"Data.csv\"\n",
    "X           = pd.read_csv(file_name)\n",
    "X.drop(['sample'],axis=1,inplace=True)\n",
    "Data        = np.array(X)\n",
    "\n",
    "plt.scatter(X[\"density\"],X[\"sugar_content\"])\n",
    "plt.xlabel(\"density\")\n",
    "plt.ylabel(\"sugar content\")\n",
    "plt.show()\n"
   ]
  },
  {
   "cell_type": "code",
   "execution_count": 18,
   "id": "c5eeb466",
   "metadata": {},
   "outputs": [
    {
     "data": {
      "image/png": "[encoded data removed]",
      "text/plain": [
       "<Figure size 432x288 with 1 Axes>"
      ]
     },
     "metadata": {
      "needs_background": "light"
     },
     "output_type": "display_data"
    },
    {
     "data": {
      "image/png": "[encoded data removed]",
      "text/plain": [
       "<Figure size 432x288 with 1 Axes>"
      ]
     },
     "metadata": {
      "needs_background": "light"
     },
     "output_type": "display_data"
    }
   ],
   "source": [
    "Centroids = init_centroids(\n",
    "    data            = Data,\n",
    "    number_clusters = 2\n",
    ")\n",
    "\n",
    "plt.scatter(X[\"density\"],X[\"sugar_content\"])\n",
    "plt.scatter(Centroids.T[0],Centroids.T[1],color=\"black\")\n",
    "\n",
    "plt.xlabel(\"density\")\n",
    "plt.ylabel(\"sugar content\")\n",
    "plt.show()\n",
    "\n",
    "Init_Clusters = assign_cluster(\n",
    "    centroids   = Centroids,\n",
    "    data        = Data\n",
    ")\n",
    "\n",
    "plot_clusters(\n",
    "    clusters    = Init_Clusters,\n",
    "    centroids   = Centroids[0]\n",
    ")\n"
   ]
  },
  {
   "cell_type": "code",
   "execution_count": 13,
   "id": "17e94054",
   "metadata": {},
   "outputs": [
    {
     "name": "stdout",
     "output_type": "stream",
     "text": [
      "[array([[0.446, 0.459],\n",
      "       [0.343, 0.099]]), array([[0.697, 0.46 ],\n",
      "       [0.774, 0.376]])]\n",
      "[0.252 0.708]\n"
     ]
    }
   ],
   "source": [
    "Centroids = update_centroids(old_centroids=Init_Centroids,data=Data)\n",
    "print(Centroids)\n",
    "print(centroid_movement(Centroids[0],Centroids[1],dist_method='manhattan'))\n"
   ]
  },
  {
   "cell_type": "code",
   "execution_count": null,
   "id": "80a460a5",
   "metadata": {},
   "outputs": [],
   "source": []
  },
  {
   "cell_type": "code",
   "execution_count": null,
   "id": "1a6e3f79",
   "metadata": {},
   "outputs": [],
   "source": []
  }
 ],
 "metadata": {
  "kernelspec": {
   "display_name": "Python 3 (ipykernel)",
   "language": "python",
   "name": "python3"
  },
  "language_info": {
   "codemirror_mode": {
    "name": "ipython",
    "version": 3
   },
   "file_extension": ".py",
   "mimetype": "text/x-python",
   "name": "python",
   "nbconvert_exporter": "python",
   "pygments_lexer": "ipython3",
   "version": "3.8.10"
  }
 },
 "nbformat": 4,
 "nbformat_minor": 5
}
